{
  "metadata": {
    "kernelspec": {
      "language": "python",
      "display_name": "Python 3",
      "name": "python3"
    },
    "language_info": {
      "name": "python",
      "version": "3.10.12",
      "mimetype": "text/x-python",
      "codemirror_mode": {
        "name": "ipython",
        "version": 3
      },
      "pygments_lexer": "ipython3",
      "nbconvert_exporter": "python",
      "file_extension": ".py"
    },
    "kaggle": {
      "accelerator": "none",
      "dataSources": [
        {
          "sourceId": 3004,
          "databundleVersionId": 861823,
          "sourceType": "competition"
        }
      ],
      "dockerImageVersionId": 30822,
      "isInternetEnabled": false,
      "language": "python",
      "sourceType": "notebook",
      "isGpuEnabled": false
    },
    "colab": {
      "provenance": [],
      "include_colab_link": true
    }
  },
  "nbformat_minor": 0,
  "nbformat": 4,
  "cells": [
    {
      "cell_type": "markdown",
      "metadata": {
        "id": "view-in-github",
        "colab_type": "text"
      },
      "source": [
        "<a href=\"https://colab.research.google.com/github/arif124713/Principle-Component-Analysis/blob/main/pca_demo.ipynb\" target=\"_parent\"><img src=\"https://colab.research.google.com/assets/colab-badge.svg\" alt=\"Open In Colab\"/></a>"
      ]
    },
    {
      "cell_type": "code",
      "source": [
        "# This Python 3 environment comes with many helpful analytics libraries installed\n",
        "# It is defined by the kaggle/python Docker image: https://github.com/kaggle/docker-python\n",
        "# For example, here's several helpful packages to load\n",
        "\n",
        "import numpy as np # linear algebra\n",
        "import pandas as pd # data processing, CSV file I/O (e.g. pd.read_csv)\n",
        "\n",
        "# Input data files are available in the read-only \"../input/\" directory\n",
        "# For example, running this (by clicking run or pressing Shift+Enter) will list all files under the input directory\n",
        "\n",
        "import os\n",
        "for dirname, _, filenames in os.walk('/kaggle/input'):\n",
        "    for filename in filenames:\n",
        "        print(os.path.join(dirname, filename))\n",
        "\n",
        "# You can write up to 20GB to the current directory (/kaggle/working/) that gets preserved as output when you create a version using \"Save & Run All\"\n",
        "# You can also write temporary files to /kaggle/temp/, but they won't be saved outside of the current session"
      ],
      "metadata": {
        "_uuid": "8f2839f25d086af736a60e9eeb907d3b93b6e0e5",
        "_cell_guid": "b1076dfc-b9ad-4769-8c92-a6c4dae69d19",
        "trusted": true,
        "execution": {
          "iopub.status.busy": "2024-12-22T11:02:44.216187Z",
          "iopub.execute_input": "2024-12-22T11:02:44.216632Z",
          "iopub.status.idle": "2024-12-22T11:02:44.607261Z",
          "shell.execute_reply.started": "2024-12-22T11:02:44.216594Z",
          "shell.execute_reply": "2024-12-22T11:02:44.606239Z"
        },
        "id": "4ZGwKGPzz3vT",
        "outputId": "a26baf39-3875-4672-bca3-5b495c49d882"
      },
      "outputs": [
        {
          "name": "stdout",
          "text": "/kaggle/input/digit-recognizer/sample_submission.csv\n/kaggle/input/digit-recognizer/train.csv\n/kaggle/input/digit-recognizer/test.csv\n",
          "output_type": "stream"
        }
      ],
      "execution_count": null
    },
    {
      "cell_type": "code",
      "source": [
        "df= pd.read_csv(\"/kaggle/input/digit-recognizer/train.csv\")"
      ],
      "metadata": {
        "trusted": true,
        "execution": {
          "iopub.status.busy": "2024-12-22T11:02:44.991393Z",
          "iopub.execute_input": "2024-12-22T11:02:44.991917Z",
          "iopub.status.idle": "2024-12-22T11:02:48.353674Z",
          "shell.execute_reply.started": "2024-12-22T11:02:44.991853Z",
          "shell.execute_reply": "2024-12-22T11:02:48.352600Z"
        },
        "id": "cuOKuufqz3vU"
      },
      "outputs": [],
      "execution_count": null
    },
    {
      "cell_type": "code",
      "source": [
        "df.head()"
      ],
      "metadata": {
        "trusted": true,
        "execution": {
          "iopub.status.busy": "2024-12-22T11:02:48.355227Z",
          "iopub.execute_input": "2024-12-22T11:02:48.355636Z",
          "iopub.status.idle": "2024-12-22T11:02:48.381276Z",
          "shell.execute_reply.started": "2024-12-22T11:02:48.355597Z",
          "shell.execute_reply": "2024-12-22T11:02:48.380254Z"
        },
        "id": "DU-_1q-2z3vU",
        "outputId": "e236b623-0698-4fdc-c61d-d70f0b8c6f12"
      },
      "outputs": [
        {
          "execution_count": 4,
          "output_type": "execute_result",
          "data": {
            "text/plain": "   label  pixel0  pixel1  pixel2  pixel3  pixel4  pixel5  pixel6  pixel7  \\\n0      1       0       0       0       0       0       0       0       0   \n1      0       0       0       0       0       0       0       0       0   \n2      1       0       0       0       0       0       0       0       0   \n3      4       0       0       0       0       0       0       0       0   \n4      0       0       0       0       0       0       0       0       0   \n\n   pixel8  ...  pixel774  pixel775  pixel776  pixel777  pixel778  pixel779  \\\n0       0  ...         0         0         0         0         0         0   \n1       0  ...         0         0         0         0         0         0   \n2       0  ...         0         0         0         0         0         0   \n3       0  ...         0         0         0         0         0         0   \n4       0  ...         0         0         0         0         0         0   \n\n   pixel780  pixel781  pixel782  pixel783  \n0         0         0         0         0  \n1         0         0         0         0  \n2         0         0         0         0  \n3         0         0         0         0  \n4         0         0         0         0  \n\n[5 rows x 785 columns]",
            "text/html": "<div>\n<style scoped>\n    .dataframe tbody tr th:only-of-type {\n        vertical-align: middle;\n    }\n\n    .dataframe tbody tr th {\n        vertical-align: top;\n    }\n\n    .dataframe thead th {\n        text-align: right;\n    }\n</style>\n<table border=\"1\" class=\"dataframe\">\n  <thead>\n    <tr style=\"text-align: right;\">\n      <th></th>\n      <th>label</th>\n      <th>pixel0</th>\n      <th>pixel1</th>\n      <th>pixel2</th>\n      <th>pixel3</th>\n      <th>pixel4</th>\n      <th>pixel5</th>\n      <th>pixel6</th>\n      <th>pixel7</th>\n      <th>pixel8</th>\n      <th>...</th>\n      <th>pixel774</th>\n      <th>pixel775</th>\n      <th>pixel776</th>\n      <th>pixel777</th>\n      <th>pixel778</th>\n      <th>pixel779</th>\n      <th>pixel780</th>\n      <th>pixel781</th>\n      <th>pixel782</th>\n      <th>pixel783</th>\n    </tr>\n  </thead>\n  <tbody>\n    <tr>\n      <th>0</th>\n      <td>1</td>\n      <td>0</td>\n      <td>0</td>\n      <td>0</td>\n      <td>0</td>\n      <td>0</td>\n      <td>0</td>\n      <td>0</td>\n      <td>0</td>\n      <td>0</td>\n      <td>...</td>\n      <td>0</td>\n      <td>0</td>\n      <td>0</td>\n      <td>0</td>\n      <td>0</td>\n      <td>0</td>\n      <td>0</td>\n      <td>0</td>\n      <td>0</td>\n      <td>0</td>\n    </tr>\n    <tr>\n      <th>1</th>\n      <td>0</td>\n      <td>0</td>\n      <td>0</td>\n      <td>0</td>\n      <td>0</td>\n      <td>0</td>\n      <td>0</td>\n      <td>0</td>\n      <td>0</td>\n      <td>0</td>\n      <td>...</td>\n      <td>0</td>\n      <td>0</td>\n      <td>0</td>\n      <td>0</td>\n      <td>0</td>\n      <td>0</td>\n      <td>0</td>\n      <td>0</td>\n      <td>0</td>\n      <td>0</td>\n    </tr>\n    <tr>\n      <th>2</th>\n      <td>1</td>\n      <td>0</td>\n      <td>0</td>\n      <td>0</td>\n      <td>0</td>\n      <td>0</td>\n      <td>0</td>\n      <td>0</td>\n      <td>0</td>\n      <td>0</td>\n      <td>...</td>\n      <td>0</td>\n      <td>0</td>\n      <td>0</td>\n      <td>0</td>\n      <td>0</td>\n      <td>0</td>\n      <td>0</td>\n      <td>0</td>\n      <td>0</td>\n      <td>0</td>\n    </tr>\n    <tr>\n      <th>3</th>\n      <td>4</td>\n      <td>0</td>\n      <td>0</td>\n      <td>0</td>\n      <td>0</td>\n      <td>0</td>\n      <td>0</td>\n      <td>0</td>\n      <td>0</td>\n      <td>0</td>\n      <td>...</td>\n      <td>0</td>\n      <td>0</td>\n      <td>0</td>\n      <td>0</td>\n      <td>0</td>\n      <td>0</td>\n      <td>0</td>\n      <td>0</td>\n      <td>0</td>\n      <td>0</td>\n    </tr>\n    <tr>\n      <th>4</th>\n      <td>0</td>\n      <td>0</td>\n      <td>0</td>\n      <td>0</td>\n      <td>0</td>\n      <td>0</td>\n      <td>0</td>\n      <td>0</td>\n      <td>0</td>\n      <td>0</td>\n      <td>...</td>\n      <td>0</td>\n      <td>0</td>\n      <td>0</td>\n      <td>0</td>\n      <td>0</td>\n      <td>0</td>\n      <td>0</td>\n      <td>0</td>\n      <td>0</td>\n      <td>0</td>\n    </tr>\n  </tbody>\n</table>\n<p>5 rows × 785 columns</p>\n</div>"
          },
          "metadata": {}
        }
      ],
      "execution_count": null
    },
    {
      "cell_type": "code",
      "source": [
        "df.sample()"
      ],
      "metadata": {
        "trusted": true,
        "execution": {
          "iopub.status.busy": "2024-12-22T11:02:51.716113Z",
          "iopub.execute_input": "2024-12-22T11:02:51.716509Z",
          "iopub.status.idle": "2024-12-22T11:02:51.737288Z",
          "shell.execute_reply.started": "2024-12-22T11:02:51.716474Z",
          "shell.execute_reply": "2024-12-22T11:02:51.735885Z"
        },
        "id": "xvRRsLIQz3vU",
        "outputId": "3955b997-43cc-40ec-af67-37aa24dfac1c"
      },
      "outputs": [
        {
          "execution_count": 5,
          "output_type": "execute_result",
          "data": {
            "text/plain": "      label  pixel0  pixel1  pixel2  pixel3  pixel4  pixel5  pixel6  pixel7  \\\n8322      3       0       0       0       0       0       0       0       0   \n\n      pixel8  ...  pixel774  pixel775  pixel776  pixel777  pixel778  pixel779  \\\n8322       0  ...         0         0         0         0         0         0   \n\n      pixel780  pixel781  pixel782  pixel783  \n8322         0         0         0         0  \n\n[1 rows x 785 columns]",
            "text/html": "<div>\n<style scoped>\n    .dataframe tbody tr th:only-of-type {\n        vertical-align: middle;\n    }\n\n    .dataframe tbody tr th {\n        vertical-align: top;\n    }\n\n    .dataframe thead th {\n        text-align: right;\n    }\n</style>\n<table border=\"1\" class=\"dataframe\">\n  <thead>\n    <tr style=\"text-align: right;\">\n      <th></th>\n      <th>label</th>\n      <th>pixel0</th>\n      <th>pixel1</th>\n      <th>pixel2</th>\n      <th>pixel3</th>\n      <th>pixel4</th>\n      <th>pixel5</th>\n      <th>pixel6</th>\n      <th>pixel7</th>\n      <th>pixel8</th>\n      <th>...</th>\n      <th>pixel774</th>\n      <th>pixel775</th>\n      <th>pixel776</th>\n      <th>pixel777</th>\n      <th>pixel778</th>\n      <th>pixel779</th>\n      <th>pixel780</th>\n      <th>pixel781</th>\n      <th>pixel782</th>\n      <th>pixel783</th>\n    </tr>\n  </thead>\n  <tbody>\n    <tr>\n      <th>8322</th>\n      <td>3</td>\n      <td>0</td>\n      <td>0</td>\n      <td>0</td>\n      <td>0</td>\n      <td>0</td>\n      <td>0</td>\n      <td>0</td>\n      <td>0</td>\n      <td>0</td>\n      <td>...</td>\n      <td>0</td>\n      <td>0</td>\n      <td>0</td>\n      <td>0</td>\n      <td>0</td>\n      <td>0</td>\n      <td>0</td>\n      <td>0</td>\n      <td>0</td>\n      <td>0</td>\n    </tr>\n  </tbody>\n</table>\n<p>1 rows × 785 columns</p>\n</div>"
          },
          "metadata": {}
        }
      ],
      "execution_count": null
    },
    {
      "cell_type": "code",
      "source": [
        "import matplotlib.pyplot as plt"
      ],
      "metadata": {
        "trusted": true,
        "execution": {
          "iopub.status.busy": "2024-12-22T11:02:52.603183Z",
          "iopub.execute_input": "2024-12-22T11:02:52.603532Z",
          "iopub.status.idle": "2024-12-22T11:02:52.607793Z",
          "shell.execute_reply.started": "2024-12-22T11:02:52.603502Z",
          "shell.execute_reply": "2024-12-22T11:02:52.606562Z"
        },
        "id": "Ju3ZUpKSz3vU"
      },
      "outputs": [],
      "execution_count": null
    },
    {
      "cell_type": "code",
      "source": [
        "plt.imshow(df.iloc[39955,1:].values.reshape(28,28))"
      ],
      "metadata": {
        "trusted": true,
        "execution": {
          "iopub.status.busy": "2024-12-22T11:02:53.564368Z",
          "iopub.execute_input": "2024-12-22T11:02:53.564805Z",
          "iopub.status.idle": "2024-12-22T11:02:53.842619Z",
          "shell.execute_reply.started": "2024-12-22T11:02:53.564773Z",
          "shell.execute_reply": "2024-12-22T11:02:53.841709Z"
        },
        "id": "JSc_dIZhz3vU",
        "outputId": "ff912fc7-29f5-4def-f283-c808e62feef5"
      },
      "outputs": [
        {
          "execution_count": 7,
          "output_type": "execute_result",
          "data": {
            "text/plain": "<matplotlib.image.AxesImage at 0x7bff21633fd0>"
          },
          "metadata": {}
        },
        {
          "output_type": "display_data",
          "data": {
            "text/plain": "<Figure size 640x480 with 1 Axes>",
            "image/png": "[encoded data removed]"
          },
          "metadata": {}
        }
      ],
      "execution_count": null
    },
    {
      "cell_type": "code",
      "source": [
        "x= df.iloc[:,1:]\n",
        "y = df.iloc[:,0]"
      ],
      "metadata": {
        "trusted": true,
        "execution": {
          "iopub.status.busy": "2024-12-22T11:02:56.892538Z",
          "iopub.execute_input": "2024-12-22T11:02:56.892898Z",
          "iopub.status.idle": "2024-12-22T11:02:56.897716Z",
          "shell.execute_reply.started": "2024-12-22T11:02:56.892869Z",
          "shell.execute_reply": "2024-12-22T11:02:56.896667Z"
        },
        "id": "q_HBi1y2z3vU"
      },
      "outputs": [],
      "execution_count": null
    },
    {
      "cell_type": "code",
      "source": [
        "from sklearn.model_selection import train_test_split"
      ],
      "metadata": {
        "trusted": true,
        "execution": {
          "iopub.status.busy": "2024-12-22T11:02:57.844600Z",
          "iopub.execute_input": "2024-12-22T11:02:57.844964Z",
          "iopub.status.idle": "2024-12-22T11:02:58.439964Z",
          "shell.execute_reply.started": "2024-12-22T11:02:57.844936Z",
          "shell.execute_reply": "2024-12-22T11:02:58.438942Z"
        },
        "id": "B5dsvHjnz3vU"
      },
      "outputs": [],
      "execution_count": null
    },
    {
      "cell_type": "code",
      "source": [
        "x_train,x_test,y_train,y_test = train_test_split(x,y,test_size=0.2, random_state=42)"
      ],
      "metadata": {
        "trusted": true,
        "execution": {
          "iopub.status.busy": "2024-12-22T11:03:02.194047Z",
          "iopub.execute_input": "2024-12-22T11:03:02.194574Z",
          "iopub.status.idle": "2024-12-22T11:03:02.455562Z",
          "shell.execute_reply.started": "2024-12-22T11:03:02.194542Z",
          "shell.execute_reply": "2024-12-22T11:03:02.454480Z"
        },
        "id": "M__y0O2Zz3vU"
      },
      "outputs": [],
      "execution_count": null
    },
    {
      "cell_type": "code",
      "source": [
        "from sklearn.neighbors import KNeighborsClassifier"
      ],
      "metadata": {
        "trusted": true,
        "execution": {
          "iopub.status.busy": "2024-12-22T11:03:03.037903Z",
          "iopub.execute_input": "2024-12-22T11:03:03.038275Z",
          "iopub.status.idle": "2024-12-22T11:03:03.360826Z",
          "shell.execute_reply.started": "2024-12-22T11:03:03.038242Z",
          "shell.execute_reply": "2024-12-22T11:03:03.359920Z"
        },
        "id": "PecreiNIz3vU"
      },
      "outputs": [],
      "execution_count": null
    },
    {
      "cell_type": "code",
      "source": [
        "knn = KNeighborsClassifier()"
      ],
      "metadata": {
        "trusted": true,
        "execution": {
          "iopub.status.busy": "2024-12-22T11:03:04.063013Z",
          "iopub.execute_input": "2024-12-22T11:03:04.063387Z",
          "iopub.status.idle": "2024-12-22T11:03:04.068226Z",
          "shell.execute_reply.started": "2024-12-22T11:03:04.063353Z",
          "shell.execute_reply": "2024-12-22T11:03:04.067010Z"
        },
        "id": "f4euGpvwz3vV"
      },
      "outputs": [],
      "execution_count": null
    },
    {
      "cell_type": "code",
      "source": [
        "knn.fit(x_train, y_train)"
      ],
      "metadata": {
        "trusted": true,
        "execution": {
          "iopub.status.busy": "2024-12-22T11:03:04.069516Z",
          "iopub.execute_input": "2024-12-22T11:03:04.069887Z",
          "iopub.status.idle": "2024-12-22T11:03:04.245376Z",
          "shell.execute_reply.started": "2024-12-22T11:03:04.069840Z",
          "shell.execute_reply": "2024-12-22T11:03:04.243755Z"
        },
        "id": "a7ee4H09z3vV",
        "outputId": "a51888a3-2608-4a44-e3af-2fc6828b9591"
      },
      "outputs": [
        {
          "execution_count": 13,
          "output_type": "execute_result",
          "data": {
            "text/plain": "KNeighborsClassifier()",
            "text/html": "<style>#sk-container-id-1 {color: black;background-color: white;}#sk-container-id-1 pre{padding: 0;}#sk-container-id-1 div.sk-toggleable {background-color: white;}#sk-container-id-1 label.sk-toggleable__label {cursor: pointer;display: block;width: 100%;margin-bottom: 0;padding: 0.3em;box-sizing: border-box;text-align: center;}#sk-container-id-1 label.sk-toggleable__label-arrow:before {content: \"▸\";float: left;margin-right: 0.25em;color: #696969;}#sk-container-id-1 label.sk-toggleable__label-arrow:hover:before {color: black;}#sk-container-id-1 div.sk-estimator:hover label.sk-toggleable__label-arrow:before {color: black;}#sk-container-id-1 div.sk-toggleable__content {max-height: 0;max-width: 0;overflow: hidden;text-align: left;background-color: #f0f8ff;}#sk-container-id-1 div.sk-toggleable__content pre {margin: 0.2em;color: black;border-radius: 0.25em;background-color: #f0f8ff;}#sk-container-id-1 input.sk-toggleable__control:checked~div.sk-toggleable__content {max-height: 200px;max-width: 100%;overflow: auto;}#sk-container-id-1 input.sk-toggleable__control:checked~label.sk-toggleable__label-arrow:before {content: \"▾\";}#sk-container-id-1 div.sk-estimator input.sk-toggleable__control:checked~label.sk-toggleable__label {background-color: #d4ebff;}#sk-container-id-1 div.sk-label input.sk-toggleable__control:checked~label.sk-toggleable__label {background-color: #d4ebff;}#sk-container-id-1 input.sk-hidden--visually {border: 0;clip: rect(1px 1px 1px 1px);clip: rect(1px, 1px, 1px, 1px);height: 1px;margin: -1px;overflow: hidden;padding: 0;position: absolute;width: 1px;}#sk-container-id-1 div.sk-estimator {font-family: monospace;background-color: #f0f8ff;border: 1px dotted black;border-radius: 0.25em;box-sizing: border-box;margin-bottom: 0.5em;}#sk-container-id-1 div.sk-estimator:hover {background-color: #d4ebff;}#sk-container-id-1 div.sk-parallel-item::after {content: \"\";width: 100%;border-bottom: 1px solid gray;flex-grow: 1;}#sk-container-id-1 div.sk-label:hover label.sk-toggleable__label {background-color: #d4ebff;}#sk-container-id-1 div.sk-serial::before {content: \"\";position: absolute;border-left: 1px solid gray;box-sizing: border-box;top: 0;bottom: 0;left: 50%;z-index: 0;}#sk-container-id-1 div.sk-serial {display: flex;flex-direction: column;align-items: center;background-color: white;padding-right: 0.2em;padding-left: 0.2em;position: relative;}#sk-container-id-1 div.sk-item {position: relative;z-index: 1;}#sk-container-id-1 div.sk-parallel {display: flex;align-items: stretch;justify-content: center;background-color: white;position: relative;}#sk-container-id-1 div.sk-item::before, #sk-container-id-1 div.sk-parallel-item::before {content: \"\";position: absolute;border-left: 1px solid gray;box-sizing: border-box;top: 0;bottom: 0;left: 50%;z-index: -1;}#sk-container-id-1 div.sk-parallel-item {display: flex;flex-direction: column;z-index: 1;position: relative;background-color: white;}#sk-container-id-1 div.sk-parallel-item:first-child::after {align-self: flex-end;width: 50%;}#sk-container-id-1 div.sk-parallel-item:last-child::after {align-self: flex-start;width: 50%;}#sk-container-id-1 div.sk-parallel-item:only-child::after {width: 0;}#sk-container-id-1 div.sk-dashed-wrapped {border: 1px dashed gray;margin: 0 0.4em 0.5em 0.4em;box-sizing: border-box;padding-bottom: 0.4em;background-color: white;}#sk-container-id-1 div.sk-label label {font-family: monospace;font-weight: bold;display: inline-block;line-height: 1.2em;}#sk-container-id-1 div.sk-label-container {text-align: center;}#sk-container-id-1 div.sk-container {/* jupyter's `normalize.less` sets `[hidden] { display: none; }` but bootstrap.min.css set `[hidden] { display: none !important; }` so we also need the `!important` here to be able to override the default hidden behavior on the sphinx rendered scikit-learn.org. See: https://github.com/scikit-learn/scikit-learn/issues/21755 */display: inline-block !important;position: relative;}#sk-container-id-1 div.sk-text-repr-fallback {display: none;}</style><div id=\"sk-container-id-1\" class=\"sk-top-container\"><div class=\"sk-text-repr-fallback\"><pre>KNeighborsClassifier()</pre><b>In a Jupyter environment, please rerun this cell to show the HTML representation or trust the notebook. <br />On GitHub, the HTML representation is unable to render, please try loading this page with nbviewer.org.</b></div><div class=\"sk-container\" hidden><div class=\"sk-item\"><div class=\"sk-estimator sk-toggleable\"><input class=\"sk-toggleable__control sk-hidden--visually\" id=\"sk-estimator-id-1\" type=\"checkbox\" checked><label for=\"sk-estimator-id-1\" class=\"sk-toggleable__label sk-toggleable__label-arrow\">KNeighborsClassifier</label><div class=\"sk-toggleable__content\"><pre>KNeighborsClassifier()</pre></div></div></div></div></div>"
          },
          "metadata": {}
        }
      ],
      "execution_count": null
    },
    {
      "cell_type": "code",
      "source": [
        "  y_pred = knn.predict(x_test)"
      ],
      "metadata": {
        "trusted": true,
        "execution": {
          "iopub.status.busy": "2024-12-22T11:03:04.828161Z",
          "iopub.execute_input": "2024-12-22T11:03:04.828549Z",
          "iopub.status.idle": "2024-12-22T11:03:17.565818Z",
          "shell.execute_reply.started": "2024-12-22T11:03:04.828515Z",
          "shell.execute_reply": "2024-12-22T11:03:17.564722Z"
        },
        "id": "q1In64tiz3vV"
      },
      "outputs": [],
      "execution_count": null
    },
    {
      "cell_type": "code",
      "source": [
        "y_pred"
      ],
      "metadata": {
        "trusted": true,
        "execution": {
          "iopub.status.busy": "2024-12-22T11:03:17.567266Z",
          "iopub.execute_input": "2024-12-22T11:03:17.567675Z",
          "iopub.status.idle": "2024-12-22T11:03:17.574393Z",
          "shell.execute_reply.started": "2024-12-22T11:03:17.567636Z",
          "shell.execute_reply": "2024-12-22T11:03:17.573014Z"
        },
        "id": "Lsq351jjz3vV",
        "outputId": "1f756d06-1e79-46bd-e794-56a99febfc9b"
      },
      "outputs": [
        {
          "execution_count": 15,
          "output_type": "execute_result",
          "data": {
            "text/plain": "array([8, 1, 9, ..., 3, 0, 9])"
          },
          "metadata": {}
        }
      ],
      "execution_count": null
    },
    {
      "cell_type": "code",
      "source": [
        "from sklearn.metrics import accuracy_score"
      ],
      "metadata": {
        "trusted": true,
        "execution": {
          "iopub.status.busy": "2024-12-22T11:03:17.576475Z",
          "iopub.execute_input": "2024-12-22T11:03:17.576815Z",
          "iopub.status.idle": "2024-12-22T11:03:17.591694Z",
          "shell.execute_reply.started": "2024-12-22T11:03:17.576784Z",
          "shell.execute_reply": "2024-12-22T11:03:17.590371Z"
        },
        "id": "cz_cOa2vz3vV"
      },
      "outputs": [],
      "execution_count": null
    },
    {
      "cell_type": "code",
      "source": [
        "accuracy_score(y_test, y_pred)"
      ],
      "metadata": {
        "trusted": true,
        "execution": {
          "iopub.status.busy": "2024-12-22T11:03:17.593257Z",
          "iopub.execute_input": "2024-12-22T11:03:17.593703Z",
          "iopub.status.idle": "2024-12-22T11:03:17.613692Z",
          "shell.execute_reply.started": "2024-12-22T11:03:17.593660Z",
          "shell.execute_reply": "2024-12-22T11:03:17.612775Z"
        },
        "id": "plYEMMcaz3vV",
        "outputId": "0690252f-35cd-48b2-b3dd-45e78e06ff34"
      },
      "outputs": [
        {
          "execution_count": 17,
          "output_type": "execute_result",
          "data": {
            "text/plain": "0.9648809523809524"
          },
          "metadata": {}
        }
      ],
      "execution_count": null
    },
    {
      "cell_type": "code",
      "source": [
        "from sklearn.preprocessing import StandardScaler"
      ],
      "metadata": {
        "trusted": true,
        "execution": {
          "iopub.status.busy": "2024-12-22T11:03:17.614624Z",
          "iopub.execute_input": "2024-12-22T11:03:17.614920Z",
          "iopub.status.idle": "2024-12-22T11:03:17.628699Z",
          "shell.execute_reply.started": "2024-12-22T11:03:17.614895Z",
          "shell.execute_reply": "2024-12-22T11:03:17.627566Z"
        },
        "id": "14jMrTWQz3vV"
      },
      "outputs": [],
      "execution_count": null
    },
    {
      "cell_type": "code",
      "source": [
        "scaler = StandardScaler()"
      ],
      "metadata": {
        "trusted": true,
        "execution": {
          "iopub.status.busy": "2024-12-22T11:03:17.629798Z",
          "iopub.execute_input": "2024-12-22T11:03:17.630163Z",
          "iopub.status.idle": "2024-12-22T11:03:17.644432Z",
          "shell.execute_reply.started": "2024-12-22T11:03:17.630133Z",
          "shell.execute_reply": "2024-12-22T11:03:17.643419Z"
        },
        "id": "kLB_ZJfbz3vV"
      },
      "outputs": [],
      "execution_count": null
    },
    {
      "cell_type": "code",
      "source": [
        "x_train = scaler.fit_transform(x_train)"
      ],
      "metadata": {
        "trusted": true,
        "execution": {
          "iopub.status.busy": "2024-12-22T11:03:30.822810Z",
          "iopub.execute_input": "2024-12-22T11:03:30.823159Z",
          "iopub.status.idle": "2024-12-22T11:03:31.248208Z",
          "shell.execute_reply.started": "2024-12-22T11:03:30.823129Z",
          "shell.execute_reply": "2024-12-22T11:03:31.247271Z"
        },
        "id": "VVn7FHvTz3vV"
      },
      "outputs": [],
      "execution_count": null
    },
    {
      "cell_type": "code",
      "source": [
        "x_test = scaler.transform(x_test)"
      ],
      "metadata": {
        "trusted": true,
        "execution": {
          "iopub.status.busy": "2024-12-22T11:03:31.341835Z",
          "iopub.execute_input": "2024-12-22T11:03:31.342199Z",
          "iopub.status.idle": "2024-12-22T11:03:31.393101Z",
          "shell.execute_reply.started": "2024-12-22T11:03:31.342168Z",
          "shell.execute_reply": "2024-12-22T11:03:31.392175Z"
        },
        "id": "YAfQgoXMz3vV"
      },
      "outputs": [],
      "execution_count": null
    },
    {
      "cell_type": "code",
      "source": [
        "from sklearn.decomposition import PCA"
      ],
      "metadata": {
        "trusted": true,
        "execution": {
          "iopub.status.busy": "2024-12-22T11:03:32.010861Z",
          "iopub.execute_input": "2024-12-22T11:03:32.011202Z",
          "iopub.status.idle": "2024-12-22T11:03:32.015957Z",
          "shell.execute_reply.started": "2024-12-22T11:03:32.011173Z",
          "shell.execute_reply": "2024-12-22T11:03:32.014522Z"
        },
        "id": "HMuWaWn2z3vV"
      },
      "outputs": [],
      "execution_count": null
    },
    {
      "cell_type": "code",
      "source": [
        "pca = PCA(n_components=100)"
      ],
      "metadata": {
        "trusted": true,
        "execution": {
          "iopub.status.busy": "2024-12-22T11:03:32.631001Z",
          "iopub.execute_input": "2024-12-22T11:03:32.631335Z",
          "iopub.status.idle": "2024-12-22T11:03:32.635491Z",
          "shell.execute_reply.started": "2024-12-22T11:03:32.631308Z",
          "shell.execute_reply": "2024-12-22T11:03:32.634547Z"
        },
        "id": "2BAi0bAez3vV"
      },
      "outputs": [],
      "execution_count": null
    },
    {
      "cell_type": "code",
      "source": [
        "x_train = pca.fit_transform(x_train)"
      ],
      "metadata": {
        "trusted": true,
        "execution": {
          "iopub.status.busy": "2024-12-22T11:03:33.240989Z",
          "iopub.execute_input": "2024-12-22T11:03:33.241325Z",
          "iopub.status.idle": "2024-12-22T11:03:36.778420Z",
          "shell.execute_reply.started": "2024-12-22T11:03:33.241298Z",
          "shell.execute_reply": "2024-12-22T11:03:36.777356Z"
        },
        "id": "xelw0IwNz3vV"
      },
      "outputs": [],
      "execution_count": null
    },
    {
      "cell_type": "code",
      "source": [
        "x_test = pca.transform(x_test)"
      ],
      "metadata": {
        "trusted": true,
        "execution": {
          "iopub.status.busy": "2024-12-22T11:03:36.779911Z",
          "iopub.execute_input": "2024-12-22T11:03:36.780268Z",
          "iopub.status.idle": "2024-12-22T11:03:36.847743Z",
          "shell.execute_reply.started": "2024-12-22T11:03:36.780238Z",
          "shell.execute_reply": "2024-12-22T11:03:36.846404Z"
        },
        "id": "Y9jamkHJz3vV"
      },
      "outputs": [],
      "execution_count": null
    },
    {
      "cell_type": "code",
      "source": [
        "x_train.shape"
      ],
      "metadata": {
        "trusted": true,
        "execution": {
          "iopub.status.busy": "2024-12-22T11:03:38.294075Z",
          "iopub.execute_input": "2024-12-22T11:03:38.294403Z",
          "iopub.status.idle": "2024-12-22T11:03:38.300875Z",
          "shell.execute_reply.started": "2024-12-22T11:03:38.294377Z",
          "shell.execute_reply": "2024-12-22T11:03:38.299728Z"
        },
        "id": "PSg5SBEgz3vV",
        "outputId": "33e9e80d-9674-42d3-a9b6-be6dde835dcb"
      },
      "outputs": [
        {
          "execution_count": 26,
          "output_type": "execute_result",
          "data": {
            "text/plain": "(33600, 100)"
          },
          "metadata": {}
        }
      ],
      "execution_count": null
    },
    {
      "cell_type": "code",
      "source": [
        "knn.fit(x_train, y_train)\n",
        "y_pred = knn.predict(x_test)"
      ],
      "metadata": {
        "trusted": true,
        "execution": {
          "iopub.status.busy": "2024-12-22T11:03:38.860563Z",
          "iopub.execute_input": "2024-12-22T11:03:38.860918Z",
          "iopub.status.idle": "2024-12-22T11:03:40.688225Z",
          "shell.execute_reply.started": "2024-12-22T11:03:38.860887Z",
          "shell.execute_reply": "2024-12-22T11:03:40.687044Z"
        },
        "id": "PAq2INitz3vW"
      },
      "outputs": [],
      "execution_count": null
    },
    {
      "cell_type": "code",
      "source": [
        "accuracy_score(y_test, y_pred)"
      ],
      "metadata": {
        "trusted": true,
        "execution": {
          "iopub.status.busy": "2024-12-22T11:03:40.689895Z",
          "iopub.execute_input": "2024-12-22T11:03:40.690303Z",
          "iopub.status.idle": "2024-12-22T11:03:40.698362Z",
          "shell.execute_reply.started": "2024-12-22T11:03:40.690263Z",
          "shell.execute_reply": "2024-12-22T11:03:40.697198Z"
        },
        "id": "HGYkrh6Gz3vW",
        "outputId": "5ec0f8f3-2ff3-4d3c-8b23-fbc0834f1ab9"
      },
      "outputs": [
        {
          "execution_count": 28,
          "output_type": "execute_result",
          "data": {
            "text/plain": "0.954047619047619"
          },
          "metadata": {}
        }
      ],
      "execution_count": null
    },
    {
      "cell_type": "code",
      "source": [
        "pca.explained_variance_\n",
        "# Eigen values"
      ],
      "metadata": {
        "trusted": true,
        "execution": {
          "iopub.status.busy": "2024-12-22T11:03:43.738430Z",
          "iopub.execute_input": "2024-12-22T11:03:43.738835Z",
          "iopub.status.idle": "2024-12-22T11:03:43.746199Z",
          "shell.execute_reply.started": "2024-12-22T11:03:43.738798Z",
          "shell.execute_reply": "2024-12-22T11:03:43.744959Z"
        },
        "id": "DRfr81XMz3vW",
        "outputId": "2aaf5f1c-6b26-4c76-d005-ae31d65d3c16"
      },
      "outputs": [
        {
          "execution_count": 29,
          "output_type": "execute_result",
          "data": {
            "text/plain": "array([40.67111198, 29.17023401, 26.74459621, 20.85344791, 18.14891878,\n       15.8529825 , 13.87108099, 12.48058959, 11.02794195, 10.09582497,\n        9.63317683,  8.62785835,  8.06302725,  7.89511527,  7.44167502,\n        7.1703231 ,  6.73265891,  6.6274298 ,  6.41498336,  6.25805945,\n        5.90493058,  5.76520019,  5.52080765,  5.3199697 ,  5.18303229,\n        4.9342215 ,  4.90645264,  4.71788563,  4.49801056,  4.43101316,\n        4.32594445,  4.23445876,  4.10278508,  4.06695969,  4.0228847 ,\n        3.84086603,  3.818397  ,  3.71272198,  3.60844782,  3.47094887,\n        3.42741935,  3.38736692,  3.28957949,  3.22779702,  3.21494618,\n        3.15499679,  3.12358945,  3.10232547,  3.05513229,  3.03502404,\n        2.9608264 ,  2.93684843,  2.86242734,  2.82057437,  2.7948368 ,\n        2.7665102 ,  2.71502662,  2.68585895,  2.6385908 ,  2.62158613,\n        2.5553221 ,  2.52622447,  2.4826246 ,  2.43195414,  2.40470287,\n        2.36733591,  2.34652808,  2.31344396,  2.2846734 ,  2.24370458,\n        2.2218592 ,  2.16030143,  2.14494194,  2.12538755,  2.09744116,\n        2.06993401,  2.05800939,  2.04588273,  2.01046422,  1.98211021,\n        1.98021386,  1.97006958,  1.9543703 ,  1.92884686,  1.91943022,\n        1.90604204,  1.87020163,  1.86456122,  1.83720865,  1.81211172,\n        1.79183757,  1.76891169,  1.76416712,  1.74238896,  1.71911233,\n        1.70679751,  1.68861161,  1.65078748,  1.6256292 ,  1.58520646])"
          },
          "metadata": {}
        }
      ],
      "execution_count": null
    },
    {
      "cell_type": "code",
      "source": [
        "pca.components_\n",
        "# Eigen vectors"
      ],
      "metadata": {
        "trusted": true,
        "execution": {
          "iopub.status.busy": "2024-12-22T11:04:30.940564Z",
          "iopub.execute_input": "2024-12-22T11:04:30.940914Z",
          "iopub.status.idle": "2024-12-22T11:04:30.947559Z",
          "shell.execute_reply.started": "2024-12-22T11:04:30.940885Z",
          "shell.execute_reply": "2024-12-22T11:04:30.946492Z"
        },
        "id": "9z0thbUTz3vW",
        "outputId": "21446f97-7d42-473e-a733-7753b05eb54b"
      },
      "outputs": [
        {
          "execution_count": 30,
          "output_type": "execute_result",
          "data": {
            "text/plain": "array([[ 9.64393976e-17,  1.97314404e-17, -1.04646287e-18, ...,\n        -0.00000000e+00, -0.00000000e+00, -0.00000000e+00],\n       [ 1.11206703e-16,  1.57710990e-17,  1.00302189e-17, ...,\n        -0.00000000e+00, -0.00000000e+00, -0.00000000e+00],\n       [-1.17686246e-16, -2.79489139e-17,  2.95500976e-18, ...,\n        -0.00000000e+00, -0.00000000e+00, -0.00000000e+00],\n       ...,\n       [ 1.94799748e-17, -2.53940035e-17, -8.13750748e-18, ...,\n         0.00000000e+00,  0.00000000e+00,  0.00000000e+00],\n       [ 4.03738944e-17, -4.92562410e-17, -9.32170209e-20, ...,\n         0.00000000e+00,  0.00000000e+00,  0.00000000e+00],\n       [ 4.54310335e-17,  1.06518177e-17, -1.57728107e-17, ...,\n         0.00000000e+00,  0.00000000e+00,  0.00000000e+00]])"
          },
          "metadata": {}
        }
      ],
      "execution_count": null
    },
    {
      "cell_type": "code",
      "source": [
        "pca.explained_variance_ratio_"
      ],
      "metadata": {
        "trusted": true,
        "execution": {
          "iopub.status.busy": "2024-12-22T11:04:49.941073Z",
          "iopub.execute_input": "2024-12-22T11:04:49.941494Z",
          "iopub.status.idle": "2024-12-22T11:04:49.948473Z",
          "shell.execute_reply.started": "2024-12-22T11:04:49.941432Z",
          "shell.execute_reply": "2024-12-22T11:04:49.947393Z"
        },
        "id": "2TtWR_ktz3vW",
        "outputId": "19fd42c5-618b-4328-85b2-65bd50609768"
      },
      "outputs": [
        {
          "execution_count": 31,
          "output_type": "execute_result",
          "data": {
            "text/plain": "array([0.05785192, 0.0414927 , 0.03804239, 0.02966263, 0.02581562,\n       0.0225498 , 0.01973068, 0.0177528 , 0.01568651, 0.01436063,\n       0.01370255, 0.01227255, 0.01146911, 0.01123027, 0.01058528,\n       0.0101993 , 0.00957675, 0.00942707, 0.00912488, 0.00890167,\n       0.00839937, 0.00820061, 0.00785298, 0.0075673 , 0.00737251,\n       0.0070186 , 0.0069791 , 0.00671088, 0.00639812, 0.00630282,\n       0.00615337, 0.00602323, 0.00583594, 0.00578498, 0.00572228,\n       0.00546337, 0.00543141, 0.0052811 , 0.00513277, 0.00493719,\n       0.00487527, 0.0048183 , 0.00467921, 0.00459132, 0.00457304,\n       0.00448777, 0.0044431 , 0.00441285, 0.00434572, 0.00431712,\n       0.00421158, 0.00417747, 0.00407161, 0.00401208, 0.00397547,\n       0.00393517, 0.00386194, 0.00382045, 0.00375322, 0.00372903,\n       0.00363477, 0.00359338, 0.00353137, 0.00345929, 0.00342053,\n       0.00336738, 0.00333778, 0.00329072, 0.00324979, 0.00319152,\n       0.00316045, 0.00307288, 0.00305104, 0.00302322, 0.00298347,\n       0.00294434, 0.00292738, 0.00291013, 0.00285975, 0.00281942,\n       0.00281672, 0.00280229, 0.00277996, 0.00274365, 0.00273026,\n       0.00271122, 0.00266024, 0.00265221, 0.00261331, 0.00257761,\n       0.00254877, 0.00251616, 0.00250941, 0.00247843, 0.00244532,\n       0.0024278 , 0.00240194, 0.00234813, 0.00231235, 0.00225485])"
          },
          "metadata": {}
        }
      ],
      "execution_count": null
    },
    {
      "cell_type": "code",
      "source": [
        "np.cumsum(pca.explained_variance_ratio_)"
      ],
      "metadata": {
        "trusted": true,
        "execution": {
          "iopub.status.busy": "2024-12-22T11:05:38.644327Z",
          "iopub.execute_input": "2024-12-22T11:05:38.644734Z",
          "iopub.status.idle": "2024-12-22T11:05:38.651917Z",
          "shell.execute_reply.started": "2024-12-22T11:05:38.644699Z",
          "shell.execute_reply": "2024-12-22T11:05:38.650592Z"
        },
        "id": "w7Z39pdXz3vW",
        "outputId": "d1fbf0f5-a941-4854-9da6-8136911cb180"
      },
      "outputs": [
        {
          "execution_count": 32,
          "output_type": "execute_result",
          "data": {
            "text/plain": "array([0.05785192, 0.09934462, 0.13738701, 0.16704964, 0.19286525,\n       0.21541506, 0.23514574, 0.25289854, 0.26858504, 0.28294567,\n       0.29664822, 0.30892077, 0.32038988, 0.33162015, 0.34220544,\n       0.35240474, 0.36198149, 0.37140857, 0.38053345, 0.38943512,\n       0.39783448, 0.40603509, 0.41388807, 0.42145537, 0.42882789,\n       0.43584648, 0.44282558, 0.44953646, 0.45593458, 0.46223739,\n       0.46839076, 0.47441399, 0.48024993, 0.48603491, 0.49175719,\n       0.49722056, 0.50265198, 0.50793307, 0.51306585, 0.51800304,\n       0.52287831, 0.52769661, 0.53237582, 0.53696714, 0.54154019,\n       0.54602796, 0.55047106, 0.55488391, 0.55922963, 0.56354674,\n       0.56775832, 0.57193579, 0.5760074 , 0.58001948, 0.58399494,\n       0.58793012, 0.59179206, 0.59561252, 0.59936573, 0.60309476,\n       0.60672954, 0.61032292, 0.61385429, 0.61731358, 0.62073411,\n       0.62410148, 0.62743926, 0.63072998, 0.63397978, 0.63717129,\n       0.64033174, 0.64340462, 0.64645566, 0.64947888, 0.65246235,\n       0.65540669, 0.65833407, 0.6612442 , 0.66410395, 0.66692337,\n       0.66974009, 0.67254238, 0.67532234, 0.678066  , 0.68079626,\n       0.68350748, 0.68616771, 0.68881992, 0.69143323, 0.69401084,\n       0.69655961, 0.69907576, 0.70158517, 0.7040636 , 0.70650893,\n       0.70893673, 0.71133867, 0.7136868 , 0.71599915, 0.718254  ])"
          },
          "metadata": {}
        }
      ],
      "execution_count": null
    },
    {
      "cell_type": "code",
      "source": [
        "plt.plot(np.cumsum(pca.explained_variance_ratio_))"
      ],
      "metadata": {
        "trusted": true,
        "execution": {
          "iopub.status.busy": "2024-12-22T11:05:48.575978Z",
          "iopub.execute_input": "2024-12-22T11:05:48.576354Z",
          "iopub.status.idle": "2024-12-22T11:05:48.757411Z",
          "shell.execute_reply.started": "2024-12-22T11:05:48.576321Z",
          "shell.execute_reply": "2024-12-22T11:05:48.756183Z"
        },
        "id": "6VcW7oKKz3vW",
        "outputId": "e809d72d-ec2f-4d68-d9f4-483f274214bd"
      },
      "outputs": [
        {
          "execution_count": 33,
          "output_type": "execute_result",
          "data": {
            "text/plain": "[<matplotlib.lines.Line2D at 0x7bfef24b1e10>]"
          },
          "metadata": {}
        },
        {
          "output_type": "display_data",
          "data": {
            "text/plain": "<Figure size 640x480 with 1 Axes>",
            "image/png": "[encoded data removed]"
          },
          "metadata": {}
        }
      ],
      "execution_count": null
    },
    {
      "cell_type": "code",
      "source": [],
      "metadata": {
        "trusted": true,
        "id": "tshtz3tuz3vW"
      },
      "outputs": [],
      "execution_count": null
    }
  ]
}